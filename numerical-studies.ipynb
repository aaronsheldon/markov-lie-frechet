{
 "cells": [
  {
   "cell_type": "markdown",
   "metadata": {
    "slideshow": {
     "slide_type": "slide"
    }
   },
   "source": [
    "# Miscellaneous investigations into the stochastic Lie algebra"
   ]
  },
  {
   "cell_type": "markdown",
   "metadata": {
    "slideshow": {
     "slide_type": "slide"
    }
   },
   "source": [
    "## Poormans symbolic Pade approximation"
   ]
  },
  {
   "cell_type": "markdown",
   "metadata": {
    "slideshow": {
     "slide_type": "slide"
    }
   },
   "source": [
    "Using the representation of rationals as pairs of arbitrary precision integers we can effectively symbolic compute the Pade approximation of Taylor series with rational coefficients."
   ]
  },
  {
   "cell_type": "markdown",
   "metadata": {
    "slideshow": {
     "slide_type": "fragment"
    }
   },
   "source": [
    "We will use the Polynomials packages, along with the base rational numbers, and arbitrary precision integers."
   ]
  },
  {
   "cell_type": "code",
   "execution_count": 2,
   "metadata": {
    "collapsed": false,
    "scrolled": false,
    "slideshow": {
     "slide_type": "fragment"
    }
   },
   "outputs": [],
   "source": [
    "using Polynomials\n",
    "using Gadfly"
   ]
  },
  {
   "cell_type": "markdown",
   "metadata": {
    "slideshow": {
     "slide_type": "slide"
    }
   },
   "source": [
    "In this first study we will formulate Pade approximation the Taylor series with coefficients given by inverse of the factorial of the arithmetic progression, with $a > 0$ and $b \\ge 0$:\n",
    "$$ \n",
    "\\sum_{n=0}^\\infty \\frac{x^n}{\\left(a\\cdot n+b\\right)!}\n",
    "$$\n",
    "In particular we are interested in $a=1$ and $b=2$"
   ]
  },
  {
   "cell_type": "markdown",
   "metadata": {
    "slideshow": {
     "slide_type": "slide"
    }
   },
   "source": [
    "To compute the Pade coefficients we will use the following procedure:\n",
    "\n",
    "1. Cast the series as rational arbitrary precision numbers\n",
    "2. Then construct a polynomial\n",
    "3. Finally find the rational Pade approximation\n",
    "\n",
    "For ease of use we can turn this into a function to compute the coefficients of the Pade approximation of the inverse factorial arithmetic progression:"
   ]
  },
  {
   "cell_type": "code",
   "execution_count": 54,
   "metadata": {
    "collapsed": false,
    "slideshow": {
     "slide_type": "fragment"
    }
   },
   "outputs": [
    {
     "data": {
      "text/plain": [
       "padeprogression (generic function with 1 method)"
      ]
     },
     "execution_count": 54,
     "metadata": {},
     "output_type": "execute_result"
    }
   ],
   "source": [
    "function padeprogression{T<:Integer}(n::T, m::T, a::T, b::T)\n",
    "    if n < 1 || m < 1 || a < 1 || b < 0\n",
    "        throw(AssertionError(\"Parameters out of range\"))\n",
    "    end\n",
    "    l = n + m + 1\n",
    "    u = Poly(ones(Rational{BigInt}, l))\n",
    "    aB = convert(BigInt, a)\n",
    "    dB = convert(BigInt, b - a)\n",
    "    for k = 1:l\n",
    "        dB += aB\n",
    "        @inbounds u.a[k] /= factorial(dB)\n",
    "    end\n",
    "    Pade(u, n, m)\n",
    "end"
   ]
  },
  {
   "cell_type": "markdown",
   "metadata": {
    "slideshow": {
     "slide_type": "subslide"
    }
   },
   "source": [
    "We can test the function"
   ]
  },
  {
   "cell_type": "code",
   "execution_count": 57,
   "metadata": {
    "collapsed": false,
    "slideshow": {
     "slide_type": "fragment"
    }
   },
   "outputs": [
    {
     "data": {
      "text/plain": [
       "Polynomials.Pade{Rational{BigInt},Rational{BigInt}}(Poly(1//1 + 1//2x + 1//9x^2 + 1//72x^3 + 1//1008x^4 + 1//30240x^5),Poly(1//1 - 1//2x + 1//9x^2 - 1//72x^3 + 1//1008x^4 - 1//30240x^5),:x)"
      ]
     },
     "execution_count": 57,
     "metadata": {},
     "output_type": "execute_result"
    }
   ],
   "source": [
    "a=padeprogression(5, 5, 1, 0)"
   ]
  },
  {
   "cell_type": "markdown",
   "metadata": {
    "slideshow": {
     "slide_type": "fragment"
    }
   },
   "source": [
    "Compare this to the examples available online at [Wikipedia](https://en.wikipedia.org/wiki/Pad%C3%A9_approximant#Examples) and [Wolfram](http://mathworld.wolfram.com/PadeApproximant.html)."
   ]
  },
  {
   "cell_type": "markdown",
   "metadata": {
    "slideshow": {
     "slide_type": "subslide"
    }
   },
   "source": [
    "Exploring the numerator"
   ]
  },
  {
   "cell_type": "code",
   "execution_count": 31,
   "metadata": {
    "collapsed": false,
    "scrolled": true,
    "slideshow": {
     "slide_type": "fragment"
    }
   },
   "outputs": [
    {
     "data": {
      "text/plain": [
       "6-element Array{Rational{BigInt},1}:\n",
       " 1//1    \n",
       " 1//2    \n",
       " 1//9    \n",
       " 1//72   \n",
       " 1//1008 \n",
       " 1//30240"
      ]
     },
     "execution_count": 31,
     "metadata": {},
     "output_type": "execute_result"
    }
   ],
   "source": [
    "a.p.a"
   ]
  },
  {
   "cell_type": "markdown",
   "metadata": {
    "slideshow": {
     "slide_type": "subslide"
    }
   },
   "source": [
    "Exploring the denominator"
   ]
  },
  {
   "cell_type": "code",
   "execution_count": 32,
   "metadata": {
    "collapsed": false,
    "slideshow": {
     "slide_type": "fragment"
    }
   },
   "outputs": [
    {
     "data": {
      "text/plain": [
       "6-element Array{Rational{BigInt},1}:\n",
       "  1//1    \n",
       " -1//2    \n",
       "  1//9    \n",
       " -1//72   \n",
       "  1//1008 \n",
       " -1//30240"
      ]
     },
     "execution_count": 32,
     "metadata": {},
     "output_type": "execute_result"
    }
   ],
   "source": [
    "a.q.a"
   ]
  },
  {
   "cell_type": "markdown",
   "metadata": {
    "slideshow": {
     "slide_type": "subslide"
    }
   },
   "source": [
    "Checking the type resolution, currently the final call to `Pade()` introduces an unavoidable type ambiguity"
   ]
  },
  {
   "cell_type": "code",
   "execution_count": 55,
   "metadata": {
    "collapsed": false,
    "slideshow": {
     "slide_type": "fragment"
    }
   },
   "outputs": [
    {
     "name": "stdout",
     "output_type": "stream",
     "text": [
      "Variables:\n",
      "  n::Int64\n",
      "  m::Int64\n",
      "  a::Int64\n",
      "  b::Int64\n",
      "  #s51::Bool\n",
      "  #s50::Bool\n",
      "  #s49::Bool\n",
      "  #s48::Bool\n",
      "  l::Int64\n",
      "  u::Polynomials.Poly{Rational{BigInt}}\n",
      "  aB::BigInt\n",
      "  dB::BigInt\n",
      "  #s52::Int64\n",
      "  k::Int64\n",
      "  ##xs#8191::Tuple{}\n",
      "  ##dims#8192::Tuple{Int64}\n",
      "\n",
      "Body:\n",
      "  begin  # In[54], line 2:\n",
      "      NewvarNode(symbol(\"#s50\"))\n",
      "      NewvarNode(symbol(\"#s49\"))\n",
      "      NewvarNode(symbol(\"#s48\"))\n",
      "      NewvarNode(:l)\n",
      "      NewvarNode(:u)\n",
      "      NewvarNode(:aB)\n",
      "      NewvarNode(:dB)\n",
      "      #s51 = (Base.slt_int)(n::Int64,1)::Bool\n",
      "      unless #s51::Bool goto 0\n",
      "      #s48 = #s51::Bool\n",
      "      goto 3\n",
      "      0: \n",
      "      #s50 = (Base.slt_int)(m::Int64,1)::Bool\n",
      "      unless #s50::Bool goto 1\n",
      "      #s48 = #s50::Bool\n",
      "      goto 3\n",
      "      1: \n",
      "      #s49 = (Base.slt_int)(a::Int64,1)::Bool\n",
      "      unless #s49::Bool goto 2\n",
      "      #s48 = #s49::Bool\n",
      "      goto 3\n",
      "      2: \n",
      "      #s48 = (Base.slt_int)(b::Int64,0)::Bool\n",
      "      3: \n",
      "      GenSym(0) = #s48::Bool\n",
      "      unless GenSym(0) goto 4 # In[54], line 3:\n",
      "      (Main.throw)($(Expr(:new, :((top(getfield))(Base,:AssertionError)::Type{AssertionError}), \"Parameters out of range\")))::UNION{}\n",
      "      4:  # In[54], line 5:\n",
      "      l = (Base.box)(Base.Int,(Base.add_int)((Base.box)(Base.Int,(Base.add_int)(n::Int64,m::Int64)),1)) # In[54], line 6:\n",
      "      GenSym(4) = (Base.fill!)((Base.Array)(Rational{BigInt},l::Int64)::Array{Rational{BigInt},1},call(Rational{BigInt},(Base.convert)(BigInt,1)::BigInt,(Base.convert)(BigInt,1)::BigInt)::Rational{BigInt})::Array{Rational{BigInt},1}\n",
      "      u = call(Polynomials.Poly{Rational{BigInt}},GenSym(4),:x)::Polynomials.Poly{Rational{BigInt}} # In[54], line 7:\n",
      "      aB = (Main.convert)(Main.BigInt,a::Int64)::BigInt # In[54], line 8:\n",
      "      dB = (Main.convert)(Main.BigInt,(Base.box)(Int64,(Base.sub_int)(b::Int64,a::Int64)))::BigInt # In[54], line 9:\n",
      "      GenSym(1) = $(Expr(:new, UnitRange{Int64}, 1, :(((top(getfield))(Base.Intrinsics,:select_value)::I)((Base.sle_int)(1,l::Int64)::Bool,l::Int64,(Base.box)(Int64,(Base.sub_int)(1,1)))::Int64)))\n",
      "      #s52 = (top(getfield))(GenSym(1),:start)::Int64\n",
      "      unless (Base.box)(Base.Bool,(Base.not_int)(#s52::Int64 === (Base.box)(Base.Int,(Base.add_int)((top(getfield))(GenSym(1),:stop)::Int64,1))::Bool)) goto 6\n",
      "      7: \n",
      "      GenSym(9) = #s52::Int64\n",
      "      GenSym(10) = (Base.box)(Base.Int,(Base.add_int)(#s52::Int64,1))\n",
      "      k = GenSym(9)\n",
      "      #s52 = GenSym(10) # In[54], line 10:\n",
      "      dB = dB::BigInt + aB::BigInt::BigInt # In[54], line 11:\n",
      "      $(Expr(:boundscheck, false))\n",
      "      GenSym(6) = (Base.arrayref)((top(getfield))(u::Polynomials.Poly{Rational{BigInt}},:a)::Array{Rational{BigInt},1},k::Int64)::Rational{BigInt}\n",
      "      GenSym(5) = (Main.factorial)(dB::BigInt)::BigInt\n",
      "      GenSym(8) = call(Rational{BigInt},(top(getfield))(GenSym(6),:num)::BigInt,(top(getfield))(GenSym(6),:den)::BigInt)::Rational{BigInt}\n",
      "      GenSym(7) = call(Rational{BigInt},GenSym(5),(Base.convert)(BigInt,1)::BigInt)::Rational{BigInt}\n",
      "      GenSym(3) = GenSym(8) // GenSym(7)::Rational{BigInt}\n",
      "      (Base.arrayset)((top(getfield))(u::Polynomials.Poly{Rational{BigInt}},:a)::Array{Rational{BigInt},1},call(Rational{BigInt},(top(getfield))(GenSym(3),:num)::BigInt,(top(getfield))(GenSym(3),:den)::BigInt)::Rational{BigInt},k::Int64)::Array{Rational{BigInt},1}\n",
      "      $(Expr(:boundscheck, :((top(getfield))(Base,:pop))))\n",
      "      8: \n",
      "      unless (Base.box)(Base.Bool,(Base.not_int)((Base.box)(Base.Bool,(Base.not_int)(#s52::Int64 === (Base.box)(Base.Int,(Base.add_int)((top(getfield))(GenSym(1),:stop)::Int64,1))::Bool)))) goto 7\n",
      "      6: \n",
      "      5:  # In[54], line 13:\n",
      "      return call(Main.Pade,u::Polynomials.Poly{Rational{BigInt}},n::Int64,m::Int64)::POLYNOMIALS.PADE{T<:NUMBER,S<:NUMBER}\n",
      "  end::POLYNOMIALS.PADE{T<:NUMBER,S<:NUMBER}\n"
     ]
    }
   ],
   "source": [
    "@code_warntype padeprogression(8, 8, 1, 2)"
   ]
  },
  {
   "cell_type": "markdown",
   "metadata": {
    "slideshow": {
     "slide_type": "slide"
    }
   },
   "source": [
    "For comparison here is the largest float, we have a little ways to go"
   ]
  },
  {
   "cell_type": "code",
   "execution_count": 40,
   "metadata": {
    "collapsed": false,
    "slideshow": {
     "slide_type": "fragment"
    }
   },
   "outputs": [
    {
     "data": {
      "text/plain": [
       "3x3 Array{Int64,2}:\n",
       " 62  4611686018427387903   4611686018427387904\n",
       " 63  9223372036854775807  -9223372036854775808\n",
       " 64                   -1                     0"
      ]
     },
     "execution_count": 40,
     "metadata": {},
     "output_type": "execute_result"
    }
   ],
   "source": [
    "[collect(62:64) [2^n - 1 for n = 62:64] [2^n for n = 62:64]]"
   ]
  },
  {
   "cell_type": "code",
   "execution_count": 58,
   "metadata": {
    "collapsed": false,
    "slideshow": {
     "slide_type": "fragment"
    }
   },
   "outputs": [
    {
     "data": {
      "text/plain": [
       "Polynomials.Pade{Rational{BigInt},Rational{BigInt}}(Poly(1//2 - 2//27x + 11//648x^2 - 11//8100x^3 + 1//7200x^4 - 1//144900x^5 + 1//2484000x^6 - 1//78246000x^7 + 1//2253484800x^8 - 1//117744580800x^9 + 1//6279710976000x^10 - 1//693908062848000x^11 + 1//116576554558464000x^12),Poly(1//1 - 13//27x + 1//9x^2 - 11//675x^3 + 11//6480x^4 - 11//82800x^5 + 1//124200x^6 - 1//2608200x^7 + 1//69552000x^8 - 1//2378678400x^9 + 1//107040528000x^10 - 1//6672192912000x^11 + 1//640530519552000x^12 - 1//124903451312640000x^13),:x)"
      ]
     },
     "execution_count": 58,
     "metadata": {},
     "output_type": "execute_result"
    }
   ],
   "source": [
    "c=padeprogression(12,13,1,2)"
   ]
  },
  {
   "cell_type": "code",
   "execution_count": 59,
   "metadata": {
    "collapsed": false,
    "scrolled": true,
    "slideshow": {
     "slide_type": "fragment"
    }
   },
   "outputs": [
    {
     "data": {
      "text/plain": [
       "3x2 Array{BigInt,2}:\n",
       "   116576554558464000    124903451312640000\n",
       "  9223372036854775807   9223372036854775807\n",
       " -9106795482296311807  -9098468585542135807"
      ]
     },
     "execution_count": 59,
     "metadata": {},
     "output_type": "execute_result"
    }
   ],
   "source": [
    "[c.p.a[end].den c.q.a[end].den; 2^63 - 1 2^63 - 1 ; c.p.a[end].den - (2^63 - 1) c.q.a[end].den - (2^63 - 1)]"
   ]
  },
  {
   "cell_type": "markdown",
   "metadata": {
    "slideshow": {
     "slide_type": "slide"
    }
   },
   "source": [
    "## Logarithms of permutation matrices"
   ]
  },
  {
   "cell_type": "markdown",
   "metadata": {
    "slideshow": {
     "slide_type": "slide"
    }
   },
   "source": [
    "Every permutation matrix is the product of cyclic permutation matrices; so we start be writing a function to construct the $k$ of $\\left(n-1\\right)!$ cyclic permutations of length $n$. Starting with the dense call:"
   ]
  },
  {
   "cell_type": "code",
   "execution_count": 60,
   "metadata": {
    "collapsed": false,
    "slideshow": {
     "slide_type": "fragment"
    }
   },
   "outputs": [
    {
     "data": {
      "text/plain": [
       "cyclicpermutation (generic function with 2 methods)"
      ]
     },
     "execution_count": 60,
     "metadata": {},
     "output_type": "execute_result"
    }
   ],
   "source": [
    "function cyclicpermutation{T<:Number, S<:Integer}(::Type{T}, n::S, k::S)\n",
    "    if n < 2 || k < 1\n",
    "        throw(AssertionError(\"Parameters out of range\"))\n",
    "    end\n",
    "    u = [1; nthperm(collect(2:n), BigInt(k))]\n",
    "    A = zeros(T, n, n)\n",
    "    a = convert(T, 1)\n",
    "    for i = 1:n\n",
    "        @inbounds A[u[i], u[mod(i, n) + 1]] = a\n",
    "    end\n",
    "    return A\n",
    "end\n",
    "cyclicpermutation{S<:Integer}(n::S, k::S) = cyclicpermutation(Int64, n, k)"
   ]
  },
  {
   "cell_type": "markdown",
   "metadata": {
    "slideshow": {
     "slide_type": "subslide"
    }
   },
   "source": [
    "A quick test generating a dense permutation matrix $A_{\\pi\\left(\\cdot\\right)}$"
   ]
  },
  {
   "cell_type": "code",
   "execution_count": 61,
   "metadata": {
    "collapsed": false,
    "slideshow": {
     "slide_type": "fragment"
    }
   },
   "outputs": [
    {
     "data": {
      "text/plain": [
       "5x5 Array{Int64,2}:\n",
       " 0  1  0  0  0\n",
       " 0  0  1  0  0\n",
       " 0  0  0  1  0\n",
       " 0  0  0  0  1\n",
       " 1  0  0  0  0"
      ]
     },
     "execution_count": 61,
     "metadata": {},
     "output_type": "execute_result"
    }
   ],
   "source": [
    "A = cyclicpermutation(5, 1)"
   ]
  },
  {
   "cell_type": "code",
   "execution_count": 63,
   "metadata": {
    "collapsed": false,
    "slideshow": {
     "slide_type": "fragment"
    }
   },
   "outputs": [
    {
     "data": {
      "text/plain": [
       "1.0"
      ]
     },
     "execution_count": 63,
     "metadata": {},
     "output_type": "execute_result"
    }
   ],
   "source": [
    "det(A)"
   ]
  },
  {
   "cell_type": "markdown",
   "metadata": {
    "slideshow": {
     "slide_type": "subslide"
    }
   },
   "source": [
    "Checking the type resolution"
   ]
  },
  {
   "cell_type": "code",
   "execution_count": 67,
   "metadata": {
    "collapsed": false,
    "slideshow": {
     "slide_type": "fragment"
    }
   },
   "outputs": [
    {
     "name": "stdout",
     "output_type": "stream",
     "text": [
      "Variables:\n",
      "  n::Int64\n",
      "  k::Int64\n",
      "\n",
      "Body:\n",
      "  begin  # In[60], line 13:\n",
      "      return (Main.cyclicpermutation)(Main.Int64,n::Int64,k::Int64)::Array{Int64,2}\n",
      "  end::Array{Int64,2}\n"
     ]
    }
   ],
   "source": [
    "@code_warntype cyclicpermutation(8, 100)"
   ]
  },
  {
   "cell_type": "markdown",
   "metadata": {
    "slideshow": {
     "slide_type": "slide"
    }
   },
   "source": [
    "The sparse version:"
   ]
  },
  {
   "cell_type": "code",
   "execution_count": 64,
   "metadata": {
    "collapsed": false,
    "scrolled": false,
    "slideshow": {
     "slide_type": "fragment"
    }
   },
   "outputs": [
    {
     "data": {
      "text/plain": [
       "spcyclicpermutation (generic function with 2 methods)"
      ]
     },
     "execution_count": 64,
     "metadata": {},
     "output_type": "execute_result"
    }
   ],
   "source": [
    "function spcyclicpermutation{T<:Number, S<:Integer}(::Type{T}, n::S, k::S)\n",
    "    if n < 2 || k < 1\n",
    "        throw(AssertionError(\"Parameters out of range\"))\n",
    "    end\n",
    "    u = [1; nthperm(collect(2:n), BigInt(k))]\n",
    "    v = [u[2:end]; 1]\n",
    "    w = ones(T, n)\n",
    "    sparse(u, v, w, n, n)\n",
    "end\n",
    "spcyclicpermutation{S<:Integer}(n::S, k::S) = spcyclicpermutation(Int64, n, k)"
   ]
  },
  {
   "cell_type": "markdown",
   "metadata": {
    "slideshow": {
     "slide_type": "subslide"
    }
   },
   "source": [
    "...and the sparse call"
   ]
  },
  {
   "cell_type": "code",
   "execution_count": 68,
   "metadata": {
    "collapsed": false,
    "slideshow": {
     "slide_type": "fragment"
    }
   },
   "outputs": [
    {
     "data": {
      "text/plain": [
       "6x6 sparse matrix with 6 Int64 entries:\n",
       "\t[2, 1]  =  1\n",
       "\t[3, 2]  =  1\n",
       "\t[4, 3]  =  1\n",
       "\t[5, 4]  =  1\n",
       "\t[6, 5]  =  1\n",
       "\t[1, 6]  =  1"
      ]
     },
     "execution_count": 68,
     "metadata": {},
     "output_type": "execute_result"
    }
   ],
   "source": [
    "B = spcyclicpermutation(6, 120)"
   ]
  },
  {
   "cell_type": "code",
   "execution_count": 69,
   "metadata": {
    "collapsed": false,
    "slideshow": {
     "slide_type": "fragment"
    }
   },
   "outputs": [
    {
     "data": {
      "text/plain": [
       "-1.0"
      ]
     },
     "execution_count": 69,
     "metadata": {},
     "output_type": "execute_result"
    }
   ],
   "source": [
    "det(B)"
   ]
  },
  {
   "cell_type": "markdown",
   "metadata": {
    "slideshow": {
     "slide_type": "subslide"
    }
   },
   "source": [
    "Checking the type resolution"
   ]
  },
  {
   "cell_type": "code",
   "execution_count": 70,
   "metadata": {
    "collapsed": false,
    "slideshow": {
     "slide_type": "fragment"
    }
   },
   "outputs": [
    {
     "name": "stdout",
     "output_type": "stream",
     "text": [
      "Variables:\n",
      "  n::Int64\n",
      "  k::Int64\n",
      "\n",
      "Body:\n",
      "  begin  # In[64], line 10:\n",
      "      return (Main.spcyclicpermutation)(Main.Int64,n::Int64,k::Int64)::SPARSEMATRIXCSC{TV,T}\n",
      "  end::SPARSEMATRIXCSC{TV,T}\n"
     ]
    }
   ],
   "source": [
    "@code_warntype spcyclicpermutation(7, 120)"
   ]
  },
  {
   "cell_type": "markdown",
   "metadata": {
    "slideshow": {
     "slide_type": "slide"
    }
   },
   "source": [
    "The permutation matrices $A_{\\pi\\left(\\cdot\\right)}$ are related to the canonical generators of the stochastic Lie algebra through $A_{\\pi\\left(\\cdot\\right)} = C_{\\pi\\left(\\cdot\\right)} + I$, where:\n",
    "$$\n",
    "    \\begin{eqnarray}\n",
    "        C_{\\pi\\left(\\cdot\\right)}\n",
    "            & = & \\sum_{i=1}^n C_{i \\pi\\left(i\\right)}\\\\\n",
    "            & = & \\sum_{i=1}^n \\hat{e}_i \\otimes \\hat{e}_{\\pi\\left(i\\right)} - \\hat{e}_i \\otimes \\hat{e}_i\n",
    "    \\end{eqnarray}\n",
    "$$\n",
    "For example:"
   ]
  },
  {
   "cell_type": "code",
   "execution_count": 44,
   "metadata": {
    "collapsed": false,
    "slideshow": {
     "slide_type": "fragment"
    }
   },
   "outputs": [
    {
     "data": {
      "text/plain": [
       "6x6 Array{Int64,2}:\n",
       " -1   0   0   0   0   1\n",
       "  1  -1   0   0   0   0\n",
       "  0   1  -1   0   0   0\n",
       "  0   0   1  -1   0   0\n",
       "  0   0   0   1  -1   0\n",
       "  0   0   0   0   1  -1"
      ]
     },
     "execution_count": 44,
     "metadata": {},
     "output_type": "execute_result"
    }
   ],
   "source": [
    "full(B) - I"
   ]
  },
  {
   "cell_type": "markdown",
   "metadata": {
    "slideshow": {
     "slide_type": "slide"
    }
   },
   "source": [
    "Lets take a look at some logarithms:"
   ]
  },
  {
   "cell_type": "code",
   "execution_count": 45,
   "metadata": {
    "collapsed": false,
    "slideshow": {
     "slide_type": "fragment"
    }
   },
   "outputs": [
    {
     "data": {
      "text/plain": [
       "4x4 Array{Int64,2}:\n",
       " 0  1  0  0\n",
       " 0  0  1  0\n",
       " 0  0  0  1\n",
       " 1  0  0  0"
      ]
     },
     "execution_count": 45,
     "metadata": {},
     "output_type": "execute_result"
    }
   ],
   "source": [
    "C = cyclicpermutation(4, 1)"
   ]
  },
  {
   "cell_type": "code",
   "execution_count": 46,
   "metadata": {
    "collapsed": false,
    "slideshow": {
     "slide_type": "fragment"
    }
   },
   "outputs": [
    {
     "name": "stderr",
     "output_type": "stream",
     "text": [
      "WARNING: Matrix with nonpositive real eigenvalues, a nonprincipal matrix logarithm will be returned.\n"
     ]
    },
    {
     "data": {
      "text/plain": [
       "4x4 Array{Complex{Float64},2}:\n",
       "     0.0+0.7854im   0.7854-0.7854im     -0.0+0.7854im  -0.7854-0.7854im\n",
       " -0.7854-0.7854im      0.0+0.7854im   0.7854-0.7854im      0.0+0.7854im\n",
       "     0.0+0.7854im  -0.7854-0.7854im      0.0+0.7854im   0.7854-0.7854im\n",
       "  0.7854-0.7854im     -0.0+0.7854im  -0.7854-0.7854im      0.0+0.7854im"
      ]
     },
     "execution_count": 46,
     "metadata": {},
     "output_type": "execute_result"
    }
   ],
   "source": [
    "round(logm(C), 5)"
   ]
  },
  {
   "cell_type": "markdown",
   "metadata": {
    "slideshow": {
     "slide_type": "slide"
    }
   },
   "source": [
    "By definition the $\\ln A_{\\pi\\left(\\cdot\\right)}$ must belong to the same Lie subalgebra as $C_{\\pi\\left(\\cdot\\right)} = A_{\\pi\\left(\\cdot\\right)} - I$."
   ]
  },
  {
   "cell_type": "markdown",
   "metadata": {
    "slideshow": {
     "slide_type": "fragment"
    }
   },
   "source": [
    "Furthermore the Lie subalgebra of $\\ln A_{\\pi\\left(\\cdot\\right)}$ must contain the positive powers $C_{\\pi\\left(\\cdot\\right)}^n$, which are given by the binomial sums:\n",
    "$$\n",
    "    C_{\\pi\\left(\\cdot\\right)}^n = \\sum_{k=0}^n \\left(-1\\right)^{n-k} \\binom{n}{k} C_{\\pi^n \\left(\\cdot\\right)}\n",
    "$$\n",
    "Where $C_{\\pi^0 \\left(\\cdot\\right)} = 0$."
   ]
  },
  {
   "cell_type": "markdown",
   "metadata": {
    "slideshow": {
     "slide_type": "slide"
    }
   },
   "source": [
    "As well we trivially have that $\\left[C_{\\pi^n \\left(\\cdot\\right)}, C_{\\pi^m \\left(\\cdot\\right)}\\right] = 0$ because $A_{\\pi\\left(\\cdot\\right)}^n=A_{\\pi^n \\left(\\cdot\\right)}$"
   ]
  },
  {
   "cell_type": "markdown",
   "metadata": {
    "slideshow": {
     "slide_type": "fragment"
    }
   },
   "source": [
    "Finally if $\\pi \\left(\\cdot\\right)$ has period $p$, so that $\\pi^p \\left(i\\right) = i$ then\n",
    "$$\n",
    "    C_{\\pi^n \\left(\\cdot\\right)} = C_{\\pi^{n\\bmod p} \\left(\\cdot\\right)}\n",
    "$$"
   ]
  },
  {
   "cell_type": "markdown",
   "metadata": {
    "slideshow": {
     "slide_type": "fragment"
    }
   },
   "source": [
    "From which we can deduce that:\n",
    "$$\n",
    "    A_{\\pi\\left(\\cdot\\right)} = \\prod_{n=1}^{p-1} \\exp\\left(\\alpha_n C_{\\pi^n \\left(\\cdot\\right)} \\right)\n",
    "$$"
   ]
  },
  {
   "cell_type": "markdown",
   "metadata": {
    "slideshow": {
     "slide_type": "fragment"
    }
   },
   "source": [
    "Critically the coefficients $\\alpha_n$ are independent of $\\pi\\left(\\cdot\\right)$, and depend only on $p$."
   ]
  },
  {
   "cell_type": "markdown",
   "metadata": {
    "slideshow": {
     "slide_type": "slide"
    }
   },
   "source": [
    "When $p$ is even the magnitude of the real parts of $\\alpha_p = -\\alpha_{p-1}$ are the $p$ outer Pythagorean approximation of $\\pi$\n",
    "\n",
    "$$\n",
    "\\alpha_n = \\left(-1\\right)^{n+1} \\frac{\\pi}{p} \\left(\\frac{1}{\\tan\\left(n \\frac{\\pi}{p}\\right)} +  \\mathrm{i}\\right)\n",
    "$$\n",
    "\n",
    "When $p$ is odd the magnitude of the real parts of $\\alpha_p = -\\alpha_{p-1}$ are the $p$ inner Pythagorean approximation of $\\pi$\n",
    "\n",
    "$$\n",
    "\\alpha_n = \\left(-1\\right)^{n+1} \\frac{\\pi}{p} \\frac{1}{\\sin\\left(n \\frac{\\pi}{p}\\right)}\n",
    "$$"
   ]
  },
  {
   "cell_type": "markdown",
   "metadata": {
    "slideshow": {
     "slide_type": "slide"
    }
   },
   "source": [
    "We start with a function to calculate coefficients"
   ]
  },
  {
   "cell_type": "code",
   "execution_count": 71,
   "metadata": {
    "collapsed": false,
    "slideshow": {
     "slide_type": "fragment"
    }
   },
   "outputs": [
    {
     "data": {
      "text/plain": [
       "pythagoreancoefficients (generic function with 2 methods)"
      ]
     },
     "execution_count": 71,
     "metadata": {},
     "output_type": "execute_result"
    }
   ],
   "source": [
    "function pythagoreancoefficients{S<:Integer, T<:Real}(::Type{T}, n::S)\n",
    "    if n < 2\n",
    "        throw(AssertionError(\"Parameters out of range\"))\n",
    "    end\n",
    "    u = Vector{Complex{T}}(n - 1)\n",
    "    nT = convert(T, n)\n",
    "    piT = convert(T, pi)\n",
    "    oT = convert(T, 1)\n",
    "    noT = convert(T, -1)\n",
    "    zT = convert(T, 0)\n",
    "    sT = noT\n",
    "    aT = zT\n",
    "    if n % 2 == 0\n",
    "        for m = 1:(n - 1)\n",
    "            sT *= noT\n",
    "            aT += oT\n",
    "            @inbounds u[m] = complex(sT * piT / (nT * tan(piT * (aT / nT))), sT * piT / nT)\n",
    "        end\n",
    "    else\n",
    "        for m = 1:(n - 1)\n",
    "            sT *= noT\n",
    "            aT += oT\n",
    "            @inbounds u[m] = complex(sT * piT / (nT * sin(piT * (aT / nT))), zT)\n",
    "        end\n",
    "    end\n",
    "    return u\n",
    "end\n",
    "pythagoreancoefficients{S<:Integer}(n::S) = pythagoreancoefficients(Float64, n::S)"
   ]
  },
  {
   "cell_type": "markdown",
   "metadata": {
    "slideshow": {
     "slide_type": "subslide"
    }
   },
   "source": [
    "Another quick test of the new functions"
   ]
  },
  {
   "cell_type": "code",
   "execution_count": 83,
   "metadata": {
    "collapsed": false,
    "slideshow": {
     "slide_type": "fragment"
    }
   },
   "outputs": [
    {
     "data": {
      "text/plain": [
       "9-element Array{Complex{Float64},1}:\n",
       "    0.966883+0.314159im\n",
       "   -0.432403-0.314159im\n",
       "     0.22825+0.314159im\n",
       "   -0.102077-0.314159im\n",
       " 1.92367e-17+0.314159im\n",
       "    0.102077-0.314159im\n",
       "    -0.22825+0.314159im\n",
       "    0.432403-0.314159im\n",
       "   -0.966883+0.314159im"
      ]
     },
     "execution_count": 83,
     "metadata": {},
     "output_type": "execute_result"
    }
   ],
   "source": [
    "pythagoreancoefficients(10)"
   ]
  },
  {
   "cell_type": "markdown",
   "metadata": {
    "slideshow": {
     "slide_type": "subslide"
    }
   },
   "source": [
    "Checking type resolution"
   ]
  },
  {
   "cell_type": "code",
   "execution_count": 73,
   "metadata": {
    "collapsed": false
   },
   "outputs": [
    {
     "name": "stdout",
     "output_type": "stream",
     "text": [
      "Variables:\n",
      "  n::Int64\n",
      "\n",
      "Body:\n",
      "  begin  # In[71], line 28:\n",
      "      return (Main.pythagoreancoefficients)(Main.Float64,n::Int64)::Array{Complex{Float64},1}\n",
      "  end::Array{Complex{Float64},1}\n"
     ]
    }
   ],
   "source": [
    "@code_warntype pythagoreancoefficients(23)"
   ]
  },
  {
   "cell_type": "markdown",
   "metadata": {
    "slideshow": {
     "slide_type": "slide"
    }
   },
   "source": [
    "We can implement this in a function that will always return a dense complex matrix:"
   ]
  },
  {
   "cell_type": "code",
   "execution_count": 74,
   "metadata": {
    "collapsed": false,
    "slideshow": {
     "slide_type": "fragment"
    }
   },
   "outputs": [
    {
     "data": {
      "text/plain": [
       "logcyclicpermutation (generic function with 2 methods)"
      ]
     },
     "execution_count": 74,
     "metadata": {},
     "output_type": "execute_result"
    }
   ],
   "source": [
    "function logcyclicpermutation{S<:Integer, T<:Real}(::Type{T}, n::S, k::S)\n",
    "    if n < 2 || k < 1\n",
    "        throw(AssertionError(\"Parameters out of range\"))\n",
    "    end\n",
    "    A = cyclicpermutation(Complex{T}, n, k)\n",
    "    B = zeros(A)\n",
    "    C = eye(A)\n",
    "    u = pythagoreancoefficients(T, n)\n",
    "    for m = 1:(n - 1)\n",
    "        C *= A\n",
    "        @inbounds B += (C - I) * u[m]\n",
    "    end\n",
    "    return B\n",
    "end\n",
    "logcyclicpermutation{S<:Integer}(n::S, k::S) = logcyclicpermutation(Float64, n, k)"
   ]
  },
  {
   "cell_type": "markdown",
   "metadata": {
    "slideshow": {
     "slide_type": "subslide"
    }
   },
   "source": [
    "Testing the function:"
   ]
  },
  {
   "cell_type": "code",
   "execution_count": 81,
   "metadata": {
    "collapsed": false,
    "slideshow": {
     "slide_type": "fragment"
    }
   },
   "outputs": [
    {
     "data": {
      "text/plain": [
       "8x8 Array{Complex{Float64},2}:\n",
       "  0.0-0.0im   1.0+0.0im   0.0+0.0im  …  -0.0+0.0im  -0.0+0.0im  -0.0-0.0im\n",
       "  0.0-0.0im   0.0+0.0im   1.0-0.0im      0.0-0.0im  -0.0+0.0im   0.0-0.0im\n",
       "  0.0-0.0im  -0.0-0.0im   0.0-0.0im      0.0+0.0im   0.0+0.0im  -0.0+0.0im\n",
       "  0.0+0.0im   0.0-0.0im  -0.0+0.0im     -0.0+0.0im   0.0+0.0im   0.0+0.0im\n",
       " -0.0+0.0im   0.0-0.0im   0.0+0.0im      1.0+0.0im   0.0+0.0im  -0.0-0.0im\n",
       "  0.0+0.0im  -0.0-0.0im  -0.0+0.0im  …   0.0-0.0im   1.0+0.0im   0.0+0.0im\n",
       " -0.0-0.0im   0.0+0.0im   0.0+0.0im     -0.0+0.0im   0.0+0.0im   1.0+0.0im\n",
       "  1.0-0.0im   0.0+0.0im  -0.0-0.0im      0.0-0.0im  -0.0-0.0im   0.0+0.0im"
      ]
     },
     "execution_count": 81,
     "metadata": {},
     "output_type": "execute_result"
    }
   ],
   "source": [
    "round(expm(logcyclicpermutation(8, 1)), 5)"
   ]
  },
  {
   "cell_type": "markdown",
   "metadata": {
    "slideshow": {
     "slide_type": "subslide"
    }
   },
   "source": [
    "Checking the type resolution"
   ]
  },
  {
   "cell_type": "code",
   "execution_count": 77,
   "metadata": {
    "collapsed": false,
    "slideshow": {
     "slide_type": "fragment"
    }
   },
   "outputs": [
    {
     "name": "stdout",
     "output_type": "stream",
     "text": [
      "Variables:\n",
      "  n::Int64\n",
      "  k::Int64\n",
      "\n",
      "Body:\n",
      "  begin  # In[74], line 15:\n",
      "      return (Main.logcyclicpermutation)(Main.Float64,n::Int64,k::Int64)::Array{Complex{Float64},2}\n",
      "  end::Array{Complex{Float64},2}\n"
     ]
    }
   ],
   "source": [
    "@code_warntype logcyclicpermutation(9,15)"
   ]
  }
 ],
 "metadata": {
  "celltoolbar": "Slideshow",
  "kernelspec": {
   "display_name": "Julia 0.4.5",
   "language": "julia",
   "name": "julia-0.4"
  },
  "language_info": {
   "file_extension": ".jl",
   "mimetype": "application/julia",
   "name": "julia",
   "version": "0.4.5"
  },
  "livereveal": {
   "start_slideshow_at": "selected"
  }
 },
 "nbformat": 4,
 "nbformat_minor": 0
}
