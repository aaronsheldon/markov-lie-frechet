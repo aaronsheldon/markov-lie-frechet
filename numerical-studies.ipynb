{
 "cells": [
  {
   "cell_type": "markdown",
   "metadata": {
    "slideshow": {
     "slide_type": "slide"
    }
   },
   "source": [
    "# Miscellaneous investigations into the stochastic Lie algebra"
   ]
  },
  {
   "cell_type": "markdown",
   "metadata": {
    "slideshow": {
     "slide_type": "slide"
    }
   },
   "source": [
    "## Poormans symbolic Pade approximation"
   ]
  },
  {
   "cell_type": "markdown",
   "metadata": {
    "slideshow": {
     "slide_type": "slide"
    }
   },
   "source": [
    "Using the representation of rationals as pairs of arbitrary precision integers we can effectively symbolic compute the Pade approximation of Taylor series with rational coefficients."
   ]
  },
  {
   "cell_type": "markdown",
   "metadata": {
    "slideshow": {
     "slide_type": "fragment"
    }
   },
   "source": [
    "We will use the Polynomials packages, along with the base rational numbers, and arbitrary precision integers."
   ]
  },
  {
   "cell_type": "code",
   "execution_count": 34,
   "metadata": {
    "collapsed": false,
    "scrolled": false,
    "slideshow": {
     "slide_type": "fragment"
    }
   },
   "outputs": [],
   "source": [
    "using Polynomials\n",
    "using Gadfly"
   ]
  },
  {
   "cell_type": "markdown",
   "metadata": {
    "slideshow": {
     "slide_type": "slide"
    }
   },
   "source": [
    "In this study we will formulate the Taylor series with coefficients given by inverse of the factorial of the arithmetic progression, with $a > 0$ and $b \\ge 0$:\n",
    "$$ \n",
    "\\sum_{n=0}^\\infty \\frac{x^n}{\\left(a\\cdot n+b\\right)!}\n",
    "$$\n",
    "In particular we are interested in $a=1$ and $b=2$"
   ]
  },
  {
   "cell_type": "markdown",
   "metadata": {
    "slideshow": {
     "slide_type": "slide"
    }
   },
   "source": [
    "To compute the Pade coefficients we will use the following procedure:\n",
    "\n",
    "1. Cast the series as rational arbitrary precision numbers\n",
    "2. Then construct a polynomial\n",
    "3. Finally find the rational Pade approximation"
   ]
  },
  {
   "cell_type": "markdown",
   "metadata": {
    "slideshow": {
     "slide_type": "fragment"
    }
   },
   "source": [
    "For ease of use we can turn this into a function to compute the *coefficients of the Pade approximation of the inverse arithmetic progression*:"
   ]
  },
  {
   "cell_type": "code",
   "execution_count": 35,
   "metadata": {
    "collapsed": false,
    "slideshow": {
     "slide_type": "fragment"
    }
   },
   "outputs": [
    {
     "data": {
      "text/plain": [
       "padeprogression (generic function with 1 method)"
      ]
     },
     "execution_count": 35,
     "metadata": {},
     "output_type": "execute_result"
    }
   ],
   "source": [
    "padeprogression(n,m,a,b)=Pade(Poly([Rational(1,factorial(BigInt(a*k+b))) for k = 0:(n+m+1)]), n, m)"
   ]
  },
  {
   "cell_type": "markdown",
   "metadata": {
    "slideshow": {
     "slide_type": "subslide"
    }
   },
   "source": [
    "We can test the function"
   ]
  },
  {
   "cell_type": "code",
   "execution_count": 37,
   "metadata": {
    "collapsed": false,
    "slideshow": {
     "slide_type": "fragment"
    }
   },
   "outputs": [
    {
     "data": {
      "text/plain": [
       "Polynomials.Pade{Rational{BigInt},Rational{BigInt}}(Poly(1//2 - 1//18x + 49//3672x^2 - 1//1530x^3 + 1//14688x^4 - 1//771120x^5 + 1//13366080x^6 + 1//158789030400x^8),Poly(1//1 - 4//9x + 14//153x^2 - 7//612x^3 + 7//7344x^4 - 1//18360x^5 + 1//477360x^6 - 1//20049120x^7 + 1//1764322560x^8),:x)"
      ]
     },
     "execution_count": 37,
     "metadata": {},
     "output_type": "execute_result"
    }
   ],
   "source": [
    "b=padeprogression(8,8,1,2)"
   ]
  },
  {
   "cell_type": "markdown",
   "metadata": {
    "slideshow": {
     "slide_type": "subslide"
    }
   },
   "source": [
    "Exploring the numerator"
   ]
  },
  {
   "cell_type": "code",
   "execution_count": 38,
   "metadata": {
    "collapsed": false,
    "scrolled": true,
    "slideshow": {
     "slide_type": "fragment"
    }
   },
   "outputs": [
    {
     "data": {
      "text/plain": [
       "9-element Array{Rational{BigInt},1}:\n",
       "  1//2           \n",
       " -1//18          \n",
       " 49//3672        \n",
       " -1//1530        \n",
       "  1//14688       \n",
       " -1//771120      \n",
       "  1//13366080    \n",
       "  0//1           \n",
       "  1//158789030400"
      ]
     },
     "execution_count": 38,
     "metadata": {},
     "output_type": "execute_result"
    }
   ],
   "source": [
    "b.p.a"
   ]
  },
  {
   "cell_type": "markdown",
   "metadata": {
    "slideshow": {
     "slide_type": "subslide"
    }
   },
   "source": [
    "Exploring the denominator"
   ]
  },
  {
   "cell_type": "code",
   "execution_count": 39,
   "metadata": {
    "collapsed": false,
    "slideshow": {
     "slide_type": "fragment"
    }
   },
   "outputs": [
    {
     "data": {
      "text/plain": [
       "9-element Array{Rational{BigInt},1}:\n",
       "  1//1         \n",
       " -4//9         \n",
       " 14//153       \n",
       " -7//612       \n",
       "  7//7344      \n",
       " -1//18360     \n",
       "  1//477360    \n",
       " -1//20049120  \n",
       "  1//1764322560"
      ]
     },
     "execution_count": 39,
     "metadata": {},
     "output_type": "execute_result"
    }
   ],
   "source": [
    "b.q.a"
   ]
  },
  {
   "cell_type": "markdown",
   "metadata": {
    "slideshow": {
     "slide_type": "slide"
    }
   },
   "source": [
    "For comparison here is the largest float, we have a little ways to go"
   ]
  },
  {
   "cell_type": "code",
   "execution_count": 40,
   "metadata": {
    "collapsed": false,
    "slideshow": {
     "slide_type": "fragment"
    }
   },
   "outputs": [
    {
     "data": {
      "text/plain": [
       "3x3 Array{Int64,2}:\n",
       " 62  4611686018427387903   4611686018427387904\n",
       " 63  9223372036854775807  -9223372036854775808\n",
       " 64                   -1                     0"
      ]
     },
     "execution_count": 40,
     "metadata": {},
     "output_type": "execute_result"
    }
   ],
   "source": [
    "[collect(62:64) [2^n - 1 for n = 62:64] [2^n for n = 62:64]]"
   ]
  },
  {
   "cell_type": "code",
   "execution_count": 42,
   "metadata": {
    "collapsed": false,
    "slideshow": {
     "slide_type": "fragment"
    }
   },
   "outputs": [
    {
     "data": {
      "text/plain": [
       "Polynomials.Pade{Rational{BigInt},Rational{BigInt}}(Poly(1//2 - 2//27x + 11//648x^2 - 11//8100x^3 + 1//7200x^4 - 1//144900x^5 + 1//2484000x^6 - 1//78246000x^7 + 1//2253484800x^8 - 1//117744580800x^9 + 1//6279710976000x^10 - 1//693908062848000x^11 + 1//116576554558464000x^12),Poly(1//1 - 13//27x + 1//9x^2 - 11//675x^3 + 11//6480x^4 - 11//82800x^5 + 1//124200x^6 - 1//2608200x^7 + 1//69552000x^8 - 1//2378678400x^9 + 1//107040528000x^10 - 1//6672192912000x^11 + 1//640530519552000x^12 - 1//124903451312640000x^13),:x)"
      ]
     },
     "execution_count": 42,
     "metadata": {},
     "output_type": "execute_result"
    }
   ],
   "source": [
    "c=padeprogression(12,13,1,2)"
   ]
  },
  {
   "cell_type": "code",
   "execution_count": 43,
   "metadata": {
    "collapsed": false,
    "scrolled": true,
    "slideshow": {
     "slide_type": "fragment"
    }
   },
   "outputs": [
    {
     "data": {
      "text/plain": [
       "3x2 Array{BigInt,2}:\n",
       "   116576554558464000    124903451312640000\n",
       "  9223372036854775807   9223372036854775807\n",
       " -9106795482296311807  -9098468585542135807"
      ]
     },
     "execution_count": 43,
     "metadata": {},
     "output_type": "execute_result"
    }
   ],
   "source": [
    "[c.p.a[end].den c.q.a[end].den; 2^63 - 1 2^63 - 1 ; c.p.a[end].den - (2^63 - 1) c.q.a[end].den - (2^63 - 1)]"
   ]
  },
  {
   "cell_type": "markdown",
   "metadata": {
    "slideshow": {
     "slide_type": "slide"
    }
   },
   "source": [
    "## Logarithms of permutation matrices"
   ]
  },
  {
   "cell_type": "markdown",
   "metadata": {
    "slideshow": {
     "slide_type": "slide"
    }
   },
   "source": [
    "Every permutation matrix is the product of cyclic permutation matrices; so we start be writing a function to construct the $k$ of $\\left(n-1\\right)!$ cyclic permutations of length $n$. Starting with the dense call:"
   ]
  },
  {
   "cell_type": "code",
   "execution_count": 1,
   "metadata": {
    "collapsed": false,
    "slideshow": {
     "slide_type": "fragment"
    }
   },
   "outputs": [
    {
     "data": {
      "text/plain": [
       "cyclicpermutation (generic function with 2 methods)"
      ]
     },
     "execution_count": 1,
     "metadata": {},
     "output_type": "execute_result"
    }
   ],
   "source": [
    "function cyclicpermutation{T<:Number, S<:Integer}(::Type{T}, n::S, k::S)\n",
    "    if n < 2 || k < 1\n",
    "        throw(ArgumentError(\"Invalid dimension size or permutation ordinal.\"))\n",
    "    end\n",
    "    u = [1; nthperm(collect(2:n), BigInt(k))]\n",
    "    A = zeros(T, n, n)\n",
    "    a = convert(T, 1)\n",
    "    for i = 1:n\n",
    "        @inbounds A[u[i], u[mod(i, n) + 1]] = a\n",
    "    end\n",
    "    return A\n",
    "end\n",
    "cyclicpermutation{S<:Integer}(n::S, k::S) = cyclicpermutation(Int64, n, k)"
   ]
  },
  {
   "cell_type": "markdown",
   "metadata": {
    "slideshow": {
     "slide_type": "fragment"
    }
   },
   "source": [
    "...and the sparse version:"
   ]
  },
  {
   "cell_type": "code",
   "execution_count": 5,
   "metadata": {
    "collapsed": false,
    "scrolled": false,
    "slideshow": {
     "slide_type": "fragment"
    }
   },
   "outputs": [
    {
     "data": {
      "text/plain": [
       "spcyclicpermutation (generic function with 2 methods)"
      ]
     },
     "execution_count": 5,
     "metadata": {},
     "output_type": "execute_result"
    }
   ],
   "source": [
    "function spcyclicpermutation{T<:Number, S<:Integer}(::Type{T}, n::S, k::S)\n",
    "    if n < 2 || k < 1\n",
    "        throw(ArgumentError(\"Invalid dimension size or permutation ordinal.\"))\n",
    "    end\n",
    "    u = [1; nthperm(collect(2:n), BigInt(k))]\n",
    "    v = [u[2:end]; 1]\n",
    "    w = ones(T, n)\n",
    "    sparse(u, v, w, n, n)\n",
    "end\n",
    "spcyclicpermutation{S<:Integer}(n::S, k::S) = spcyclicpermutation(Int64, n, k)"
   ]
  },
  {
   "cell_type": "markdown",
   "metadata": {
    "slideshow": {
     "slide_type": "subslide"
    }
   },
   "source": [
    "A couple of quick tests generating permutation matrices $A_{\\pi\\left(\\cdot\\right)}$"
   ]
  },
  {
   "cell_type": "code",
   "execution_count": 4,
   "metadata": {
    "collapsed": false,
    "slideshow": {
     "slide_type": "fragment"
    }
   },
   "outputs": [
    {
     "data": {
      "text/plain": [
       "5x5 Array{Int64,2}:\n",
       " 0  1  0  0  0\n",
       " 0  0  1  0  0\n",
       " 0  0  0  1  0\n",
       " 0  0  0  0  1\n",
       " 1  0  0  0  0"
      ]
     },
     "execution_count": 4,
     "metadata": {},
     "output_type": "execute_result"
    }
   ],
   "source": [
    "A = cyclicpermutation(5,1)"
   ]
  },
  {
   "cell_type": "code",
   "execution_count": 6,
   "metadata": {
    "collapsed": false,
    "slideshow": {
     "slide_type": "fragment"
    }
   },
   "outputs": [
    {
     "data": {
      "text/plain": [
       "1.0"
      ]
     },
     "execution_count": 6,
     "metadata": {},
     "output_type": "execute_result"
    }
   ],
   "source": [
    "det(A)"
   ]
  },
  {
   "cell_type": "markdown",
   "metadata": {
    "slideshow": {
     "slide_type": "subslide"
    }
   },
   "source": [
    "...and the sparse call"
   ]
  },
  {
   "cell_type": "code",
   "execution_count": 12,
   "metadata": {
    "collapsed": false,
    "slideshow": {
     "slide_type": "fragment"
    }
   },
   "outputs": [
    {
     "data": {
      "text/plain": [
       "6x6 sparse matrix with 6 Int64 entries:\n",
       "\t[2, 1]  =  1\n",
       "\t[3, 2]  =  1\n",
       "\t[4, 3]  =  1\n",
       "\t[5, 4]  =  1\n",
       "\t[6, 5]  =  1\n",
       "\t[1, 6]  =  1"
      ]
     },
     "execution_count": 12,
     "metadata": {},
     "output_type": "execute_result"
    }
   ],
   "source": [
    "B = spcyclicpermutation(6, 120)"
   ]
  },
  {
   "cell_type": "code",
   "execution_count": 10,
   "metadata": {
    "collapsed": false,
    "slideshow": {
     "slide_type": "fragment"
    }
   },
   "outputs": [
    {
     "data": {
      "text/plain": [
       "-1.0"
      ]
     },
     "execution_count": 10,
     "metadata": {},
     "output_type": "execute_result"
    }
   ],
   "source": [
    "det(B)"
   ]
  },
  {
   "cell_type": "markdown",
   "metadata": {
    "slideshow": {
     "slide_type": "slide"
    }
   },
   "source": [
    "The permutation matrices $A_{\\pi\\left(\\cdot\\right)}$ are related to the canonical generators of the stochastic Lie algebra through $A_{\\pi\\left(\\cdot\\right)} = C_{\\pi\\left(\\cdot\\right)} + I$, where:\n",
    "$$\n",
    "    \\begin{eqnarray}\n",
    "        C_{\\pi\\left(\\cdot\\right)}\n",
    "            & = & \\sum_{i=1}^n C_{i \\pi\\left(i\\right)}\\\\\n",
    "            & = & \\sum_{i=1}^n \\hat{e}_i \\otimes \\hat{e}_{\\pi\\left(i\\right)} - \\hat{e}_i \\otimes \\hat{e}_i\n",
    "    \\end{eqnarray}\n",
    "$$"
   ]
  },
  {
   "cell_type": "markdown",
   "metadata": {
    "slideshow": {
     "slide_type": "fragment"
    }
   },
   "source": [
    "For example:"
   ]
  },
  {
   "cell_type": "code",
   "execution_count": 44,
   "metadata": {
    "collapsed": false,
    "slideshow": {
     "slide_type": "fragment"
    }
   },
   "outputs": [
    {
     "data": {
      "text/plain": [
       "6x6 Array{Int64,2}:\n",
       " -1   0   0   0   0   1\n",
       "  1  -1   0   0   0   0\n",
       "  0   1  -1   0   0   0\n",
       "  0   0   1  -1   0   0\n",
       "  0   0   0   1  -1   0\n",
       "  0   0   0   0   1  -1"
      ]
     },
     "execution_count": 44,
     "metadata": {},
     "output_type": "execute_result"
    }
   ],
   "source": [
    "full(B) - I"
   ]
  },
  {
   "cell_type": "markdown",
   "metadata": {
    "slideshow": {
     "slide_type": "slide"
    }
   },
   "source": [
    "Lets take a look at some logarithms:"
   ]
  },
  {
   "cell_type": "code",
   "execution_count": 45,
   "metadata": {
    "collapsed": false,
    "slideshow": {
     "slide_type": "fragment"
    }
   },
   "outputs": [
    {
     "data": {
      "text/plain": [
       "4x4 Array{Int64,2}:\n",
       " 0  1  0  0\n",
       " 0  0  1  0\n",
       " 0  0  0  1\n",
       " 1  0  0  0"
      ]
     },
     "execution_count": 45,
     "metadata": {},
     "output_type": "execute_result"
    }
   ],
   "source": [
    "C = cyclicpermutation(4, 1)"
   ]
  },
  {
   "cell_type": "code",
   "execution_count": 46,
   "metadata": {
    "collapsed": false,
    "slideshow": {
     "slide_type": "fragment"
    }
   },
   "outputs": [
    {
     "name": "stderr",
     "output_type": "stream",
     "text": [
      "WARNING: Matrix with nonpositive real eigenvalues, a nonprincipal matrix logarithm will be returned.\n"
     ]
    },
    {
     "data": {
      "text/plain": [
       "4x4 Array{Complex{Float64},2}:\n",
       "     0.0+0.7854im   0.7854-0.7854im     -0.0+0.7854im  -0.7854-0.7854im\n",
       " -0.7854-0.7854im      0.0+0.7854im   0.7854-0.7854im      0.0+0.7854im\n",
       "     0.0+0.7854im  -0.7854-0.7854im      0.0+0.7854im   0.7854-0.7854im\n",
       "  0.7854-0.7854im     -0.0+0.7854im  -0.7854-0.7854im      0.0+0.7854im"
      ]
     },
     "execution_count": 46,
     "metadata": {},
     "output_type": "execute_result"
    }
   ],
   "source": [
    "round(logm(C), 5)"
   ]
  },
  {
   "cell_type": "markdown",
   "metadata": {
    "slideshow": {
     "slide_type": "slide"
    }
   },
   "source": [
    "By definition the $\\ln A_{\\pi\\left(\\cdot\\right)}$ must belong to the same Lie subalgebra as $C_{\\pi\\left(\\cdot\\right)} = A_{\\pi\\left(\\cdot\\right)} - I$."
   ]
  },
  {
   "cell_type": "markdown",
   "metadata": {
    "slideshow": {
     "slide_type": "fragment"
    }
   },
   "source": [
    "Furthermore the Lie subalgebra of $\\ln A_{\\pi\\left(\\cdot\\right)}$ must contain the positive powers $C_{\\pi\\left(\\cdot\\right)}^n$, which are given by the binomial sums:\n",
    "$$\n",
    "    C_{\\pi\\left(\\cdot\\right)}^n = \\sum_{k=0}^n \\left(-1\\right)^{n-k} \\binom{n}{k} C_{\\pi^n \\left(\\cdot\\right)}\n",
    "$$\n",
    "Where $C_{\\pi^0 \\left(\\cdot\\right)} = 0$."
   ]
  },
  {
   "cell_type": "markdown",
   "metadata": {
    "slideshow": {
     "slide_type": "slide"
    }
   },
   "source": [
    "As well we trivially have that $\\left[C_{\\pi^n \\left(\\cdot\\right)}, C_{\\pi^m \\left(\\cdot\\right)}\\right] = 0$ because $A_{\\pi\\left(\\cdot\\right)}^n=A_{\\pi^n \\left(\\cdot\\right)}$"
   ]
  },
  {
   "cell_type": "markdown",
   "metadata": {
    "slideshow": {
     "slide_type": "fragment"
    }
   },
   "source": [
    "Finally if $\\pi \\left(\\cdot\\right)$ has period $p$, so that $\\pi^p \\left(i\\right) = i$ then\n",
    "$$\n",
    "    C_{\\pi^n \\left(\\cdot\\right)} = C_{\\pi^{n\\bmod p} \\left(\\cdot\\right)}\n",
    "$$"
   ]
  },
  {
   "cell_type": "markdown",
   "metadata": {
    "slideshow": {
     "slide_type": "fragment"
    }
   },
   "source": [
    "From which we can deduce that:\n",
    "$$\n",
    "    A_{\\pi\\left(\\cdot\\right)} = \\prod_{n=1}^{p-1} \\exp\\left(\\alpha_n C_{\\pi^n \\left(\\cdot\\right)} \\right)\n",
    "$$"
   ]
  },
  {
   "cell_type": "markdown",
   "metadata": {
    "slideshow": {
     "slide_type": "fragment"
    }
   },
   "source": [
    "Critically the coefficients $\\alpha_n$ are independent of $\\pi\\left(\\cdot\\right)$, and depend only on $p$."
   ]
  },
  {
   "cell_type": "markdown",
   "metadata": {
    "slideshow": {
     "slide_type": "slide"
    }
   },
   "source": [
    "We start with a function to calculate coefficients based on the Pythagorean approximations of $\\pi$. For even periods $p$ we return the coefficients rooted on the outer circle approximation, and for odd we return the coefficients rooted on the inner circle apporximations"
   ]
  },
  {
   "cell_type": "code",
   "execution_count": 13,
   "metadata": {
    "collapsed": false,
    "slideshow": {
     "slide_type": "fragment"
    }
   },
   "outputs": [
    {
     "data": {
      "text/plain": [
       "pythagoreancoefficients (generic function with 2 methods)"
      ]
     },
     "execution_count": 13,
     "metadata": {},
     "output_type": "execute_result"
    }
   ],
   "source": [
    "function pythagoreancoefficients{S<:Integer, T<:Real}(::Type{T}, n::S)\n",
    "    u = Vector{Complex{T}}((n - 1))\n",
    "    nT = convert(T, n)\n",
    "    piT = convert(T, pi)\n",
    "    oT = convert(T, 1)\n",
    "    noT = convert(T, -1)\n",
    "    zT = convert(T, 0)\n",
    "    sT = noT\n",
    "    aT = zT\n",
    "    if n % 2 == 0\n",
    "        for m = 1:(n - 1)\n",
    "            sT *= noT\n",
    "            aT += oT\n",
    "            @inbounds u[m] = complex(sT * piT / (nT * tan(piT * (aT / nT))), sT * piT / nT)\n",
    "        end\n",
    "    else\n",
    "        for m = 1:(n - 1)\n",
    "            sT *= noT\n",
    "            aT += oT\n",
    "            @inbounds u[m] = complex(sT * piT / (nT * sin(piT * (aT / nT))), zT)\n",
    "        end\n",
    "    end\n",
    "    return u\n",
    "end\n",
    "pythagoreancoefficients{S<:Integer}(n::S) = pythagoreancoefficients(Float64, n::S)"
   ]
  },
  {
   "cell_type": "markdown",
   "metadata": {
    "slideshow": {
     "slide_type": "subslide"
    }
   },
   "source": [
    "Another quick test of the new functions"
   ]
  },
  {
   "cell_type": "code",
   "execution_count": 19,
   "metadata": {
    "collapsed": false,
    "slideshow": {
     "slide_type": "fragment"
    }
   },
   "outputs": [
    {
     "data": {
      "text/plain": [
       "10-element Array{Complex{Float64},1}:\n",
       "   1.01372+0.0im\n",
       " -0.528261+0.0im\n",
       "  0.377902+0.0im\n",
       " -0.313972+0.0im\n",
       "  0.288536+0.0im\n",
       " -0.288536+0.0im\n",
       "  0.313972+0.0im\n",
       " -0.377902+0.0im\n",
       "  0.528261+0.0im\n",
       "  -1.01372+0.0im"
      ]
     },
     "execution_count": 19,
     "metadata": {},
     "output_type": "execute_result"
    }
   ],
   "source": [
    "pythagoreancoefficients(11)"
   ]
  },
  {
   "cell_type": "markdown",
   "metadata": {
    "slideshow": {
     "slide_type": "slide"
    }
   },
   "source": [
    "We can implement this in a function that will always return a dense complex matrix:"
   ]
  },
  {
   "cell_type": "code",
   "execution_count": 27,
   "metadata": {
    "collapsed": false,
    "slideshow": {
     "slide_type": "fragment"
    }
   },
   "outputs": [
    {
     "data": {
      "text/plain": [
       "logcyclicpermutation (generic function with 2 methods)"
      ]
     },
     "execution_count": 27,
     "metadata": {},
     "output_type": "execute_result"
    }
   ],
   "source": [
    "function logcyclicpermutation{S<:Integer, T<:Real}(::Type{T}, n::S, k::S)\n",
    "    A = cyclicpermutation(Complex{T}, n, k)\n",
    "    B = zeros(A)\n",
    "    C = eye(A)\n",
    "    u = pythagoreancoefficients(T, n)\n",
    "    for m = 1:(n - 1)\n",
    "        C *= A\n",
    "        @inbounds B += (C - I) * u[m]\n",
    "    end\n",
    "    return B\n",
    "end\n",
    "logcyclicpermutation{S<:Integer}(n::S, k::S) = logcyclicpermutation(Float64, n, k)"
   ]
  },
  {
   "cell_type": "markdown",
   "metadata": {
    "slideshow": {
     "slide_type": "subslide"
    }
   },
   "source": [
    "Testing the function:"
   ]
  },
  {
   "cell_type": "code",
   "execution_count": 30,
   "metadata": {
    "collapsed": false,
    "slideshow": {
     "slide_type": "fragment"
    }
   },
   "outputs": [
    {
     "data": {
      "text/plain": [
       "8x1 Array{Complex{Float64},2}:\n",
       " -1.11022e-16+0.392699im\n",
       "     0.948059-0.392699im\n",
       "    -0.392699+0.392699im\n",
       "     0.162661-0.392699im\n",
       " -2.40459e-17+0.392699im\n",
       "    -0.162661-0.392699im\n",
       "     0.392699+0.392699im\n",
       "    -0.948059-0.392699im"
      ]
     },
     "execution_count": 30,
     "metadata": {},
     "output_type": "execute_result"
    }
   ],
   "source": [
    "logcyclicpermutation(8,1)[1,:]'"
   ]
  },
  {
   "cell_type": "code",
   "execution_count": 31,
   "metadata": {
    "collapsed": false,
    "slideshow": {
     "slide_type": "fragment"
    }
   },
   "outputs": [
    {
     "name": "stderr",
     "output_type": "stream",
     "text": [
      "WARNING: Matrix with nonpositive real eigenvalues, a nonprincipal matrix logarithm will be returned.\n"
     ]
    },
    {
     "data": {
      "text/plain": [
       "8x1 Array{Complex{Float64},2}:\n",
       " -3.33067e-16+0.392699im\n",
       "     0.948059-0.392699im\n",
       "    -0.392699+0.392699im\n",
       "     0.162661-0.392699im\n",
       " -1.77636e-15+0.392699im\n",
       "    -0.162661-0.392699im\n",
       "     0.392699+0.392699im\n",
       "    -0.948059-0.392699im"
      ]
     },
     "execution_count": 31,
     "metadata": {},
     "output_type": "execute_result"
    }
   ],
   "source": [
    "logm(cyclicpermutation(8,1))[1,:]'"
   ]
  }
 ],
 "metadata": {
  "celltoolbar": "Slideshow",
  "kernelspec": {
   "display_name": "Julia 0.4.5",
   "language": "julia",
   "name": "julia-0.4"
  },
  "language_info": {
   "file_extension": ".jl",
   "mimetype": "application/julia",
   "name": "julia",
   "version": "0.4.5"
  },
  "livereveal": {
   "start_slideshow_at": "selected"
  }
 },
 "nbformat": 4,
 "nbformat_minor": 0
}
